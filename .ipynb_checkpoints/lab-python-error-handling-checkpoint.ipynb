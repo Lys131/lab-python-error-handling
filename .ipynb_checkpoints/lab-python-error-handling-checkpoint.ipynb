{
 "cells": [
  {
   "cell_type": "markdown",
   "id": "25d7736c-ba17-4aff-b6bb-66eba20fbf4e",
   "metadata": {},
   "source": [
    "# Lab | Error Handling"
   ]
  },
  {
   "cell_type": "markdown",
   "id": "bc99b386-7508-47a0-bcdb-d969deaf6c8b",
   "metadata": {},
   "source": [
    "## Exercise: Error Handling for Managing Customer Orders\n",
    "\n",
    "The implementation of your code for managing customer orders assumes that the user will always enter a valid input. \n",
    "\n",
    "For example, we could modify the `initialize_inventory` function to include error handling.\n",
    "   - If the user enters an invalid quantity (e.g., a negative value or a non-numeric value), display an error message and ask them to re-enter the quantity for that product.\n",
    "   - Use a try-except block to handle the error and continue prompting the user until a valid quantity is entered.\n",
    "\n",
    "```python\n",
    "# Step 1: Define the function for initializing the inventory with error handling\n",
    "def initialize_inventory(products):\n",
    "    inventory = {}\n",
    "    for product in products:\n",
    "        valid_quantity = False\n",
    "        while not valid_quantity:\n",
    "            try:\n",
    "                quantity = int(input(f\"Enter the quantity of {product}s available: \"))\n",
    "                if quantity < 0:\n",
    "                    raise ValueError(\"Invalid quantity! Please enter a non-negative value.\")\n",
    "                valid_quantity = True\n",
    "            except ValueError as error:\n",
    "                print(f\"Error: {error}\")\n",
    "        inventory[product] = quantity\n",
    "    return inventory\n",
    "\n",
    "# Or, in another way:\n",
    "\n",
    "def initialize_inventory(products):\n",
    "    inventory = {}\n",
    "    for product in products:\n",
    "        valid_input = False\n",
    "        while not valid_input:\n",
    "            try:\n",
    "                quantity = int(input(f\"Enter the quantity of {product}s available: \"))\n",
    "                if quantity >= 0:\n",
    "                    inventory[product] = quantity\n",
    "                    valid_input = True\n",
    "                else:\n",
    "                    print(\"Quantity cannot be negative. Please enter a valid quantity.\")\n",
    "            except ValueError:\n",
    "                print(\"Invalid input. Please enter a valid quantity.\")\n",
    "    return inventory\n",
    "```\n",
    "\n",
    "Let's enhance your code by implementing error handling to handle invalid inputs.\n",
    "\n",
    "Follow the steps below to complete the exercise:\n",
    "\n",
    "2. Modify the `calculate_total_price` function to include error handling.\n",
    "   - If the user enters an invalid price (e.g., a negative value or a non-numeric value), display an error message and ask them to re-enter the price for that product.\n",
    "   - Use a try-except block to handle the error and continue prompting the user until a valid price is entered.\n",
    "\n",
    "3. Modify the `get_customer_orders` function to include error handling.\n",
    "   - If the user enters an invalid number of orders (e.g., a negative value or a non-numeric value), display an error message and ask them to re-enter the number of orders.\n",
    "   - If the user enters an invalid product name (e.g., a product name that is not in the inventory), or that doesn't have stock available, display an error message and ask them to re-enter the product name. *Hint: you will need to pass inventory as a parameter*\n",
    "   - Use a try-except block to handle the error and continue prompting the user until a valid product name is entered.\n",
    "\n",
    "4. Test your code by running the program and deliberately entering invalid quantities and product names. Make sure the error handling mechanism works as expected.\n"
   ]
  },
  {
   "cell_type": "code",
   "execution_count": 31,
   "id": "23965875-c6a0-4ddb-87ea-3a4b474fcd82",
   "metadata": {},
   "outputs": [],
   "source": [
    "def initialize_inventory(products):\n",
    "    inventory = {}\n",
    "    for product in products:\n",
    "        valid_input = False\n",
    "        while not valid_input:\n",
    "            try:\n",
    "                quantity = int(input(f\"Please, enter the quantity of {product}s in stock: \"))\n",
    "                if quantity >= 0:\n",
    "                    inventory[product] = quantity\n",
    "                    valid_input = True\n",
    "                else:\n",
    "                    print(\"Quantity can't be negative. Please, enter a positive number.\")\n",
    "            except ValueError:\n",
    "                print(\"Invalid input. Please, enter a positive number.\")\n",
    "    return inventory\n",
    "\n",
    "# When running the program, define a variable: inventory = initialize_inventory(products)\n",
    "\n",
    "def get_customers_order(inventory):\n",
    "    orders_list = []\n",
    "    customers_order = set()\n",
    "    valid_input = False\n",
    "    while not valid_input:\n",
    "        try:\n",
    "            user_input = int(input(\"Enter the number of customer orders: \").strip().lower())\n",
    "            if user_input > 0:\n",
    "                orders_list = [n for n in range(user_input)]\n",
    "                valid_input = True\n",
    "            else:\n",
    "                print(\"Quantity can't be negative nor zero. Please, enter a positive number.\")\n",
    "        except ValueError:\n",
    "            print(\"Invalid input. Please, enter a positive number.\")\n",
    "    for n in orders_list:      \n",
    "        valid_product = False\n",
    "        while not valid_product:\n",
    "            try:\n",
    "                prod_order = input(\"What product would you like to add to order?\").strip().lower()\n",
    "                if prod_order in inventory:\n",
    "                    customers_order.add(prod_order)\n",
    "                    valid_product = True\n",
    "                else:\n",
    "                    print(\"This product is not available. Please, enter a product from the inventory.\")\n",
    "            except ValueError:\n",
    "                print(\"Invalid input. Please, enter a product from the inventory.\")\n",
    "    return customers_order\n",
    "\n",
    "# When running the program define a variable: order = get_customers_order()\n",
    "\n",
    "def update_inventory(order, inventory):\n",
    "    new_inventory = {product: (quantity-1) if product in order else quantity for product, quantity in inventory.items()}\n",
    "    new_inventory = {product: quantity for product, quantity in new_inventory.items() if quantity > 0}\n",
    "    return new_inventory\n",
    "\n",
    "def calculate_order_statistics(order, products):\n",
    "    order_stats = ()\n",
    "    total_order = len(order)\n",
    "    total_products = len(products)\n",
    "    perc_order = len(order) / len(products) * 100\n",
    "    order_stats = (total_order, perc_order)\n",
    "    return order_stats\n",
    "\n",
    "# When running the program define a variable: order_stats = calculate_order_statistics(order, products)\n",
    "\n",
    "def print_order_statistics(order_stats):\n",
    "    print(\" \")\n",
    "    print(\"Order statistics:\")\n",
    "    print(f\"Total of products ordered is: {order_stats[0]}\")\n",
    "    print(f\"Percentage of products ordered is: {order_stats[1]}\")\n",
    "\n",
    "def print_updated_inventory(new_inventory):\n",
    "    print(\" \")\n",
    "    print(\"Updated inventory:\")\n",
    "    print('\\n'.join([f\"{product}: {quantity}\" for product, quantity in new_inventory.items()]))\n",
    "\n",
    "def calculate_price(order):\n",
    "    prices_list = [] \n",
    "    for product in order:\n",
    "        valid_price = False\n",
    "        while not valid_price:\n",
    "            try:\n",
    "                price = float(input(\"\".join(f\"Enter the price of {product}: \" )))\n",
    "                if price > 0:\n",
    "                    prices_list.append(price)\n",
    "                    valid_price = True    \n",
    "                else:\n",
    "                    print(\"Price must be a positive number and it also can't be zero.\")\n",
    "            except ValueError:\n",
    "                print(\"Invalid input. Please, enter a positive number.\")\n",
    "    print(f\"Total order price is: {sum(prices_list)}.\")"
   ]
  },
  {
   "cell_type": "code",
   "execution_count": 32,
   "id": "ff602e4b-1025-4608-a96b-56255a2c25d9",
   "metadata": {},
   "outputs": [],
   "source": [
    "products = [\"t-shirt\", \"mug\", \"hat\", \"book\", \"keychain\"]"
   ]
  },
  {
   "cell_type": "code",
   "execution_count": 34,
   "id": "5146bd07-d9a0-47cc-a1f6-34dcb31c9b76",
   "metadata": {},
   "outputs": [
    {
     "name": "stdin",
     "output_type": "stream",
     "text": [
      "Please, enter the quantity of t-shirts in stock:  \n"
     ]
    },
    {
     "name": "stdout",
     "output_type": "stream",
     "text": [
      "Invalid input. Please, enter a positive number.\n"
     ]
    },
    {
     "name": "stdin",
     "output_type": "stream",
     "text": [
      "Please, enter the quantity of t-shirts in stock:  23\n",
      "Please, enter the quantity of mugs in stock:  34\n",
      "Please, enter the quantity of hats in stock:  -5\n"
     ]
    },
    {
     "name": "stdout",
     "output_type": "stream",
     "text": [
      "Quantity can't be negative. Please, enter a positive number.\n"
     ]
    },
    {
     "name": "stdin",
     "output_type": "stream",
     "text": [
      "Please, enter the quantity of hats in stock:  20\n",
      "Please, enter the quantity of books in stock:  1\n",
      "Please, enter the quantity of keychains in stock:  9\n",
      "Enter the number of customer orders:  0\n"
     ]
    },
    {
     "name": "stdout",
     "output_type": "stream",
     "text": [
      "Quantity can't be negative nor zero. Please, enter a positive number.\n"
     ]
    },
    {
     "name": "stdin",
     "output_type": "stream",
     "text": [
      "Enter the number of customer orders:  3\n",
      "What product would you like to add to order? mugs\n"
     ]
    },
    {
     "name": "stdout",
     "output_type": "stream",
     "text": [
      "This product is not available. Please, enter a product from the inventory.\n"
     ]
    },
    {
     "name": "stdin",
     "output_type": "stream",
     "text": [
      "What product would you like to add to order? hat\n",
      "What product would you like to add to order? cat\n"
     ]
    },
    {
     "name": "stdout",
     "output_type": "stream",
     "text": [
      "This product is not available. Please, enter a product from the inventory.\n"
     ]
    },
    {
     "name": "stdin",
     "output_type": "stream",
     "text": [
      "What product would you like to add to order? mug\n",
      "What product would you like to add to order? book\n"
     ]
    },
    {
     "name": "stdout",
     "output_type": "stream",
     "text": [
      " \n",
      "Order statistics:\n",
      "Total of products ordered is: 3\n",
      "Percentage of products ordered is: 60.0\n",
      " \n",
      "Updated inventory:\n",
      "t-shirt: 23\n",
      "mug: 33\n",
      "hat: 19\n",
      "keychain: 9\n"
     ]
    },
    {
     "name": "stdin",
     "output_type": "stream",
     "text": [
      "Enter the price of hat:  0\n"
     ]
    },
    {
     "name": "stdout",
     "output_type": "stream",
     "text": [
      "Price must be a positive number and it also can't be zero.\n"
     ]
    },
    {
     "name": "stdin",
     "output_type": "stream",
     "text": [
      "Enter the price of hat:  23\n",
      "Enter the price of book:  40\n",
      "Enter the price of mug:  15\n"
     ]
    },
    {
     "name": "stdout",
     "output_type": "stream",
     "text": [
      "Total order price is: 78.0.\n"
     ]
    }
   ],
   "source": [
    "inventory = initialize_inventory(products)\n",
    "\n",
    "order = get_customers_order(inventory)\n",
    "\n",
    "new_inventory = update_inventory(order, inventory)\n",
    "\n",
    "order_stats = calculate_order_statistics(order, products)\n",
    "\n",
    "print_order_statistics(order_stats)\n",
    "\n",
    "print_updated_inventory(new_inventory)\n",
    "\n",
    "calculate_price(order)"
   ]
  },
  {
   "cell_type": "code",
   "execution_count": null,
   "id": "a41eea1d-8748-42f9-b41a-2fa6db77ae00",
   "metadata": {},
   "outputs": [],
   "source": []
  }
 ],
 "metadata": {
  "kernelspec": {
   "display_name": "Python 3 (ipykernel)",
   "language": "python",
   "name": "python3"
  },
  "language_info": {
   "codemirror_mode": {
    "name": "ipython",
    "version": 3
   },
   "file_extension": ".py",
   "mimetype": "text/x-python",
   "name": "python",
   "nbconvert_exporter": "python",
   "pygments_lexer": "ipython3",
   "version": "3.12.7"
  }
 },
 "nbformat": 4,
 "nbformat_minor": 5
}
